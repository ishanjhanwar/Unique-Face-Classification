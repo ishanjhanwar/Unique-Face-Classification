{
 "cells": [
  {
   "cell_type": "markdown",
   "id": "c798cd9a",
   "metadata": {},
   "source": [
    "# Imports"
   ]
  },
  {
   "cell_type": "code",
   "execution_count": 1,
   "id": "8c0340da",
   "metadata": {},
   "outputs": [],
   "source": [
    "from tensorflow.keras.models import load_model\n",
    "import tensorflow as tf\n",
    "from tensorflow.keras.layers import Input, Dense, Flatten, Conv2D, MaxPooling2D, Dropout, Activation, BatchNormalization\n",
    "from tensorflow.keras.preprocessing import image\n",
    "from tensorflow.keras.preprocessing.image import ImageDataGenerator\n",
    "from tensorflow.keras.models import Sequential, Model\n",
    "from tensorflow.keras.optimizers import Adam\n",
    "import numpy as np\n",
    "import matplotlib.pyplot as plt\n",
    "import os\n",
    "import cv2"
   ]
  },
  {
   "cell_type": "markdown",
   "id": "c1e9ee3d",
   "metadata": {},
   "source": [
    "# Creating Dataset"
   ]
  },
  {
   "cell_type": "code",
   "execution_count": null,
   "id": "5d1bac46",
   "metadata": {},
   "outputs": [],
   "source": [
    "\n",
    "\n",
    "\n",
    "face_classifier = cv2.CascadeClassifier('haarcascade_frontalface_default.xml')\n",
    "\n",
    "def face_extractor(img):\n",
    "    faces = face_classifier.detectMultiScale(img, 1.3, 5)\n",
    "    \n",
    "    if faces is ():\n",
    "        return None\n",
    "    \n",
    "    # Crop all faces found\n",
    "    for (x,y,w,h) in faces:\n",
    "        x=x-10\n",
    "        y=y-10\n",
    "        cropped_face = img[y:y+h+50, x:x+w+50]\n",
    "\n",
    "    return cropped_face\n",
    "\n",
    "cap = cv2.VideoCapture(0)\n",
    "count = 0\n",
    "while True:\n",
    "    ret, frame = cap.read()\n",
    "    if face_extractor(frame) is not None:\n",
    "        count += 1\n",
    "        face = cv2.resize(face_extractor(frame), (400, 400))\n",
    "        # Saving the file\n",
    "        file_name_path = 'data/' + str(count) + '.jpg'\n",
    "        cv2.imwrite(file_name_path, face)\n",
    "        #count on image display\n",
    "        cv2.putText(face, str(count), (64, 64), cv2.FONT_HERSHEY_COMPLEX, 1, (0,255,0), 2)\n",
    "        cv2.imshow('Cropped Faces', face)\n",
    "    else:\n",
    "        print(\"Face not found\")\n",
    "        pass\n",
    "    if cv2.waitKey(1) == 13 or count == 20: #13 is Enter\n",
    "        break\n",
    "        \n",
    "cap.release()\n",
    "cv2.destroyAllWindows()      \n",
    "print(\"Collecting Samples Complete\")"
   ]
  },
  {
   "cell_type": "markdown",
   "id": "2b4c464e",
   "metadata": {},
   "source": [
    "# Comparing different Models"
   ]
  },
  {
   "cell_type": "markdown",
   "id": "5f01a4a8",
   "metadata": {},
   "source": [
    "## Providing directory"
   ]
  },
  {
   "cell_type": "code",
   "execution_count": 2,
   "id": "00482986",
   "metadata": {},
   "outputs": [],
   "source": [
    "IMAGE_SIZE = [64, 64]\n",
    "\n",
    "train_path = os.path.join('./dataset/Train')\n",
    "test_path = os.path.join('./dataset/Test')\n",
    "\n",
    "INPUT_SIZE = IMAGE_SIZE + [3]"
   ]
  },
  {
   "cell_type": "markdown",
   "id": "981274c7",
   "metadata": {},
   "source": [
    "## Custom Model"
   ]
  },
  {
   "cell_type": "code",
   "execution_count": 3,
   "id": "fitting-sugar",
   "metadata": {},
   "outputs": [
    {
     "name": "stdout",
     "output_type": "stream",
     "text": [
      "Model: \"sequential\"\n",
      "_________________________________________________________________\n",
      " Layer (type)                Output Shape              Param #   \n",
      "=================================================================\n",
      " conv2d (Conv2D)             (None, 64, 64, 32)        896       \n",
      "                                                                 \n",
      " batch_normalization (BatchN  (None, 64, 64, 32)       128       \n",
      " ormalization)                                                   \n",
      "                                                                 \n",
      " conv2d_1 (Conv2D)           (None, 64, 64, 32)        9248      \n",
      "                                                                 \n",
      " batch_normalization_1 (Batc  (None, 64, 64, 32)       128       \n",
      " hNormalization)                                                 \n",
      "                                                                 \n",
      " dropout (Dropout)           (None, 64, 64, 32)        0         \n",
      "                                                                 \n",
      " conv2d_2 (Conv2D)           (None, 64, 64, 64)        18496     \n",
      "                                                                 \n",
      " max_pooling2d (MaxPooling2D  (None, 32, 32, 64)       0         \n",
      " )                                                               \n",
      "                                                                 \n",
      " dropout_1 (Dropout)         (None, 32, 32, 64)        0         \n",
      "                                                                 \n",
      " conv2d_3 (Conv2D)           (None, 32, 32, 128)       73856     \n",
      "                                                                 \n",
      " batch_normalization_2 (Batc  (None, 32, 32, 128)      512       \n",
      " hNormalization)                                                 \n",
      "                                                                 \n",
      " dropout_2 (Dropout)         (None, 32, 32, 128)       0         \n",
      "                                                                 \n",
      " flatten (Flatten)           (None, 131072)            0         \n",
      "                                                                 \n",
      " dense (Dense)               (None, 512)               67109376  \n",
      "                                                                 \n",
      " dropout_3 (Dropout)         (None, 512)               0         \n",
      "                                                                 \n",
      " dense_1 (Dense)             (None, 5)                 2565      \n",
      "                                                                 \n",
      "=================================================================\n",
      "Total params: 67,215,205\n",
      "Trainable params: 67,214,821\n",
      "Non-trainable params: 384\n",
      "_________________________________________________________________\n"
     ]
    }
   ],
   "source": [
    "\n",
    "\n",
    "# model = Sequential([\n",
    "#     Input(shape=INPUT_SIZE),\n",
    "#     Conv2D(8, 7, activation=tf.keras.layers.LeakyReLU(alpha=0.01)),\n",
    "#     MaxPooling2D(),\n",
    "#     Dense(32, activation=tf.keras.layers.LeakyReLU(alpha=0.01)),\n",
    "#     Dropout(rate=0.3),\n",
    "#     Conv2D(8, 7, activation=tf.keras.layers.LeakyReLU(alpha=0.01)),\n",
    "#     Dense(32, activation=tf.keras.layers.LeakyReLU(alpha=0.01)),\n",
    "#     Flatten(),\n",
    "#     Dense(5, activation='softmax')\n",
    "# ])\n",
    "model=Sequential([\n",
    "Input(shape=INPUT_SIZE),\n",
    "Conv2D(filters=32, kernel_size=(3,3), padding='same', activation='relu'),\n",
    "BatchNormalization(),\n",
    "Conv2D(filters=32, kernel_size=(3,3), padding='same', activation='relu'),\n",
    "BatchNormalization(),\n",
    "Dropout(0.25),\n",
    "Conv2D(filters=64, kernel_size=(3,3), padding='same', activation='relu'),\n",
    "MaxPooling2D(pool_size=(2,2)),\n",
    "Dropout(0.25),\n",
    "Conv2D(filters=128, kernel_size=(3,3), padding='same', activation='relu'),\n",
    "BatchNormalization(),\n",
    "Dropout(0.25),\n",
    "Flatten(),\n",
    "Dense(512, activation='relu'),\n",
    "Dropout(0.3),\n",
    "Dense(5, activation='softmax')\n",
    "])\n",
    "\n",
    "model.summary()"
   ]
  },
  {
   "cell_type": "code",
   "execution_count": 4,
   "id": "8c73a866",
   "metadata": {},
   "outputs": [
    {
     "name": "stderr",
     "output_type": "stream",
     "text": [
      "C:\\Users\\Administrator\\AppData\\Local\\Programs\\Python\\Python39\\lib\\site-packages\\keras\\optimizer_v2\\adam.py:105: UserWarning: The `lr` argument is deprecated, use `learning_rate` instead.\n",
      "  super(Adam, self).__init__(name, **kwargs)\n"
     ]
    },
    {
     "name": "stdout",
     "output_type": "stream",
     "text": [
      "Found 1195 images belonging to 5 classes.\n",
      "Found 300 images belonging to 5 classes.\n"
     ]
    }
   ],
   "source": [
    "model.compile(\n",
    "    loss='categorical_crossentropy',\n",
    "    optimizer=Adam(lr=0.0001),\n",
    "    metrics=['accuracy'] )\n",
    "\n",
    "train_datagen = ImageDataGenerator(rescale=1./255,\n",
    "                                   shear_range=0.2,\n",
    "                                   zoom_range=0.2,\n",
    "                                   rotation_range=10,\n",
    "                                   horizontal_flip=True)\n",
    "\n",
    "test_datagen = ImageDataGenerator(rescale=1./255)\n",
    "\n",
    "training_set = train_datagen.flow_from_directory(train_path,\n",
    "                                                 target_size=(64, 64),\n",
    "                                                 batch_size=32,\n",
    "                                                 class_mode='categorical')\n",
    "\n",
    "test_set = test_datagen.flow_from_directory(test_path,\n",
    "                                            target_size=(64, 64),\n",
    "                                            batch_size=32,\n",
    "                                            class_mode='categorical')\n"
   ]
  },
  {
   "cell_type": "markdown",
   "id": "ef62b333",
   "metadata": {},
   "source": [
    "### Getting Class Labels"
   ]
  },
  {
   "cell_type": "code",
   "execution_count": 5,
   "id": "e4f75f89",
   "metadata": {},
   "outputs": [
    {
     "name": "stdout",
     "output_type": "stream",
     "text": [
      "{'Megh': 0, 'Miit': 1, 'Om': 2, 'Shashank': 3, 'Sparsh': 4}\n"
     ]
    }
   ],
   "source": [
    "print(training_set.class_indices)"
   ]
  },
  {
   "cell_type": "markdown",
   "id": "9867c9c6",
   "metadata": {},
   "source": [
    "### Fitting the model"
   ]
  },
  {
   "cell_type": "code",
   "execution_count": 6,
   "id": "6c9276b4",
   "metadata": {},
   "outputs": [
    {
     "name": "stdout",
     "output_type": "stream",
     "text": [
      "Epoch 1/50\n",
      "38/38 [==============================] - 8s 117ms/step - loss: 0.2667 - accuracy: 0.9657 - val_loss: 8.5752 - val_accuracy: 0.1667\n",
      "Epoch 2/50\n",
      "38/38 [==============================] - 4s 105ms/step - loss: 0.0673 - accuracy: 0.9950 - val_loss: 14.8102 - val_accuracy: 0.1667loss: 0.0732 - accuracy\n",
      "Epoch 3/50\n",
      "38/38 [==============================] - 4s 105ms/step - loss: 0.0235 - accuracy: 0.9958 - val_loss: 24.0294 - val_accuracy: 0.1667\n",
      "Epoch 4/50\n",
      "38/38 [==============================] - 4s 106ms/step - loss: 0.0210 - accuracy: 0.9941 - val_loss: 19.2031 - val_accuracy: 0.3333\n",
      "Epoch 5/50\n",
      "38/38 [==============================] - 4s 107ms/step - loss: 0.0987 - accuracy: 0.9908 - val_loss: 37.7810 - val_accuracy: 0.1667s - loss: 0.0969 \n",
      "Epoch 6/50\n",
      "38/38 [==============================] - 4s 109ms/step - loss: 0.0619 - accuracy: 0.9967 - val_loss: 35.8113 - val_accuracy: 0.2133\n",
      "Epoch 7/50\n",
      "38/38 [==============================] - 4s 108ms/step - loss: 0.0152 - accuracy: 0.9975 - val_loss: 37.5043 - val_accuracy: 0.2000\n",
      "Epoch 8/50\n",
      "38/38 [==============================] - 4s 115ms/step - loss: 0.0418 - accuracy: 0.9983 - val_loss: 37.7309 - val_accuracy: 0.2600\n",
      "Epoch 9/50\n",
      "38/38 [==============================] - 4s 114ms/step - loss: 0.0187 - accuracy: 0.9967 - val_loss: 33.9785 - val_accuracy: 0.3333\n",
      "Epoch 10/50\n",
      "38/38 [==============================] - 4s 112ms/step - loss: 0.0564 - accuracy: 0.9975 - val_loss: 25.3648 - val_accuracy: 0.3333\n",
      "Epoch 11/50\n",
      "38/38 [==============================] - 4s 113ms/step - loss: 0.0083 - accuracy: 0.9992 - val_loss: 21.0391 - val_accuracy: 0.3333\n",
      "Epoch 12/50\n",
      "38/38 [==============================] - 4s 113ms/step - loss: 0.0252 - accuracy: 0.9992 - val_loss: 15.7905 - val_accuracy: 0.3400\n",
      "Epoch 13/50\n",
      "38/38 [==============================] - 4s 113ms/step - loss: 0.0496 - accuracy: 0.9983 - val_loss: 13.1267 - val_accuracy: 0.4033\n",
      "Epoch 14/50\n",
      "38/38 [==============================] - 4s 112ms/step - loss: 0.0352 - accuracy: 0.9975 - val_loss: 10.2578 - val_accuracy: 0.5000\n",
      "Epoch 15/50\n",
      "38/38 [==============================] - 4s 109ms/step - loss: 0.0042 - accuracy: 0.9992 - val_loss: 1.0732 - val_accuracy: 0.8533\n",
      "Epoch 16/50\n",
      "38/38 [==============================] - 4s 112ms/step - loss: 0.0075 - accuracy: 0.9992 - val_loss: 0.7307 - val_accuracy: 0.8833\n",
      "Epoch 17/50\n",
      "38/38 [==============================] - 4s 112ms/step - loss: 0.0129 - accuracy: 0.9983 - val_loss: 0.6761 - val_accuracy: 0.8900\n",
      "Epoch 18/50\n",
      "38/38 [==============================] - 4s 112ms/step - loss: 0.0142 - accuracy: 0.9975 - val_loss: 2.5394 - val_accuracy: 0.8333\n",
      "Epoch 19/50\n",
      "38/38 [==============================] - 4s 113ms/step - loss: 0.0074 - accuracy: 0.9983 - val_loss: 3.4044 - val_accuracy: 0.8400\n",
      "Epoch 20/50\n",
      "38/38 [==============================] - 5s 118ms/step - loss: 0.0349 - accuracy: 0.9950 - val_loss: 5.9699 - val_accuracy: 0.8233\n",
      "Epoch 21/50\n",
      "38/38 [==============================] - 4s 115ms/step - loss: 0.0401 - accuracy: 0.9950 - val_loss: 0.8891 - val_accuracy: 0.8767\n",
      "Epoch 22/50\n",
      "38/38 [==============================] - 4s 117ms/step - loss: 0.0257 - accuracy: 0.9950 - val_loss: 3.3603 - val_accuracy: 0.8467\n",
      "Epoch 23/50\n",
      "38/38 [==============================] - 5s 122ms/step - loss: 0.0697 - accuracy: 0.9975 - val_loss: 5.4388 - val_accuracy: 0.8333\n",
      "Epoch 24/50\n",
      "38/38 [==============================] - 6s 145ms/step - loss: 0.0130 - accuracy: 0.9983 - val_loss: 11.2904 - val_accuracy: 0.8333\n",
      "Epoch 25/50\n",
      "38/38 [==============================] - 5s 124ms/step - loss: 0.0132 - accuracy: 0.9992 - val_loss: 12.9949 - val_accuracy: 0.8267\n",
      "Epoch 26/50\n",
      "38/38 [==============================] - 6s 148ms/step - loss: 0.0015 - accuracy: 0.9992 - val_loss: 12.9759 - val_accuracy: 0.8233\n",
      "Epoch 27/50\n",
      "38/38 [==============================] - 5s 127ms/step - loss: 0.0171 - accuracy: 0.9992 - val_loss: 12.6150 - val_accuracy: 0.8333\n",
      "Epoch 28/50\n",
      "38/38 [==============================] - 5s 138ms/step - loss: 0.0195 - accuracy: 0.9992 - val_loss: 14.6383 - val_accuracy: 0.8100\n",
      "Epoch 29/50\n",
      "38/38 [==============================] - 5s 135ms/step - loss: 0.0286 - accuracy: 0.9992 - val_loss: 14.5901 - val_accuracy: 0.7333\n",
      "Epoch 30/50\n",
      "38/38 [==============================] - 5s 123ms/step - loss: 4.6384e-04 - accuracy: 1.0000 - val_loss: 13.3429 - val_accuracy: 0.7833\n",
      "Epoch 31/50\n",
      "38/38 [==============================] - 5s 123ms/step - loss: 0.0109 - accuracy: 0.9983 - val_loss: 3.6228 - val_accuracy: 0.8633\n",
      "Epoch 32/50\n",
      "38/38 [==============================] - 5s 129ms/step - loss: 0.0000e+00 - accuracy: 1.0000 - val_loss: 1.5351 - val_accuracy: 0.8800\n",
      "Epoch 33/50\n",
      "38/38 [==============================] - 6s 144ms/step - loss: 1.2659e-07 - accuracy: 1.0000 - val_loss: 1.6432 - val_accuracy: 0.8800\n",
      "Epoch 34/50\n",
      "38/38 [==============================] - 5s 127ms/step - loss: 4.1670e-05 - accuracy: 1.0000 - val_loss: 2.1012 - val_accuracy: 0.8700\n",
      "Epoch 35/50\n",
      "38/38 [==============================] - 4s 117ms/step - loss: 2.8546e-04 - accuracy: 1.0000 - val_loss: 2.1239 - val_accuracy: 0.8667\n",
      "Epoch 36/50\n",
      "38/38 [==============================] - 5s 118ms/step - loss: 0.0081 - accuracy: 0.9983 - val_loss: 1.7354 - val_accuracy: 0.8600\n",
      "Epoch 37/50\n",
      "38/38 [==============================] - 5s 118ms/step - loss: 0.1641 - accuracy: 0.9967 - val_loss: 4.0948 - val_accuracy: 0.8367\n",
      "Epoch 38/50\n",
      "38/38 [==============================] - 5s 129ms/step - loss: 0.0013 - accuracy: 0.9992 - val_loss: 3.1553 - val_accuracy: 0.8433\n",
      "Epoch 39/50\n",
      "38/38 [==============================] - 5s 132ms/step - loss: 1.3526e-07 - accuracy: 1.0000 - val_loss: 2.8081 - val_accuracy: 0.8533\n",
      "Epoch 40/50\n",
      "38/38 [==============================] - 5s 124ms/step - loss: 0.0411 - accuracy: 0.9975 - val_loss: 5.6638 - val_accuracy: 0.8333\n",
      "Epoch 41/50\n",
      "38/38 [==============================] - 6s 159ms/step - loss: 0.0045 - accuracy: 0.9992 - val_loss: 2.0102 - val_accuracy: 0.8533\n",
      "Epoch 42/50\n",
      "38/38 [==============================] - 5s 131ms/step - loss: 0.0636 - accuracy: 0.9975 - val_loss: 7.0563 - val_accuracy: 0.6933\n",
      "Epoch 43/50\n",
      "38/38 [==============================] - 5s 134ms/step - loss: 8.3650e-07 - accuracy: 1.0000 - val_loss: 5.3332 - val_accuracy: 0.8367\n",
      "Epoch 44/50\n",
      "38/38 [==============================] - 5s 133ms/step - loss: 0.0060 - accuracy: 0.9992 - val_loss: 6.1941 - val_accuracy: 0.8400\n",
      "Epoch 45/50\n",
      "38/38 [==============================] - 5s 142ms/step - loss: 0.0029 - accuracy: 0.9992 - val_loss: 7.8955 - val_accuracy: 0.8367\n",
      "Epoch 46/50\n",
      "38/38 [==============================] - 5s 131ms/step - loss: 0.2675 - accuracy: 0.9958 - val_loss: 2.4531 - val_accuracy: 0.8333\n",
      "Epoch 47/50\n",
      "38/38 [==============================] - 5s 129ms/step - loss: 0.0602 - accuracy: 0.9975 - val_loss: 3.2010 - val_accuracy: 0.8400\n",
      "Epoch 48/50\n",
      "38/38 [==============================] - 5s 127ms/step - loss: 3.5080e-04 - accuracy: 1.0000 - val_loss: 3.4405 - val_accuracy: 0.8400\n",
      "Epoch 49/50\n",
      "38/38 [==============================] - 5s 123ms/step - loss: 1.8156e-08 - accuracy: 1.0000 - val_loss: 3.5154 - val_accuracy: 0.8400\n",
      "Epoch 50/50\n",
      "38/38 [==============================] - 5s 122ms/step - loss: 0.0120 - accuracy: 0.9992 - val_loss: 4.7386 - val_accuracy: 0.8333\n"
     ]
    }
   ],
   "source": [
    "r = model.fit(\n",
    "    training_set,\n",
    "    validation_data=test_set,\n",
    "    epochs=50)"
   ]
  },
  {
   "cell_type": "markdown",
   "id": "dac127b0",
   "metadata": {},
   "source": [
    "### Plotting Loss and Accuracy"
   ]
  },
  {
   "cell_type": "code",
   "execution_count": 7,
   "id": "4e0bd53a",
   "metadata": {},
   "outputs": [
    {
     "data": {
      "image/png": "[encoded data removed]",
      "text/plain": [
       "<Figure size 1440x720 with 2 Axes>"
      ]
     },
     "metadata": {
      "needs_background": "light"
     },
     "output_type": "display_data"
    }
   ],
   "source": [
    "def plot_model_graph(r):\n",
    "    fig, (axs1 , axs2) = plt.subplots(1, 2,figsize=(20,10))\n",
    "    axs1.plot(r.history['accuracy'], label='acc',color='red')\n",
    "    axs1.plot(r.history['val_accuracy'],label='val_acc' ,color='green')\n",
    "    axs1.set_title('Model Accuracy')\n",
    "    axs1.set_ylabel('accuracy')\n",
    "    axs1.set_xlabel('epoch')\n",
    "    axs1.legend(['train', 'val'], loc='upper left')\n",
    "#     axs1.show()\n",
    "\n",
    "    axs2.plot(r.history['loss'], label='loss',color='red')\n",
    "    axs2.plot(r.history['val_loss'],label='val_loss', color='green')\n",
    "    axs2.set_title('Model Loss')\n",
    "    axs2.set_ylabel('loss')\n",
    "    axs2.set_xlabel('epoch')\n",
    "\n",
    "#   axs2.figure(figsize=(12,8))    axs2.legend(['train', 'val'], loc='upper left')#\n",
    "    plt.show()\n",
    "# axs2.show()\n",
    "plot_model_graph(r)"
   ]
  },
  {
   "cell_type": "markdown",
   "id": "6cbaa38c",
   "metadata": {},
   "source": [
    "# Real Time Face Recognition"
   ]
  },
  {
   "cell_type": "code",
   "execution_count": null,
   "id": "ready-camel",
   "metadata": {},
   "outputs": [],
   "source": [
    "import numpy as np\n",
    "import matplotlib.pyplot as plt\n",
    "import cv2\n",
    "from sklearn.metrics import accuracy_score\n",
    "from tensorflow.keras.models import load_model\n",
    "model = load_model('./facefeatures_model_best.h5')\n",
    "\n",
    "faceCascade = cv2.CascadeClassifier('haarcascade_frontalface_default.xml')\n",
    "FONT_THICKNESS=2\n",
    "cap = cv2.VideoCapture(1) \n",
    "cap.set(3,640) \n",
    "cap.set(4,480)\n",
    "\n",
    "while True:\n",
    "    ret, image = cap.read()\n",
    "    faces = faceCascade.detectMultiScale(image)\n",
    "    for (x, y, w, h) in faces:\n",
    "        crop = image[y:y+h, x:x+w]\n",
    "        resized = cv2.resize(crop, (64, 64), interpolation=cv2.INTER_AREA)\n",
    "        resized=cv2.cvtColor(resized, cv2.COLOR_BGR2RGB)\n",
    "        resized=resized/255\n",
    "        # print(resized.shape)\n",
    "        a=model.predict(resized[np.newaxis, ...])\n",
    "        pred = np.argmax(a)\n",
    "        print(a)\n",
    "        peoples=['Ishan', 'Megh', 'Miit', 'Om', 'Shashank']\n",
    "        #peoples=[0,1,2,3,4]\n",
    "        print(pred)\n",
    "        cv2.rectangle(image, (x, y), (x+w, y+h),  (0, 255, 0),3)\n",
    "        cv2.putText(image, peoples[pred], (x, y), cv2.FONT_HERSHEY_COMPLEX, 2,  (0, 255, 0), 2, cv2.LINE_AA)\n",
    "        \n",
    "    cv2.imshow('video', image)\n",
    "    k = cv2.waitKey(30)\n",
    "    if k==27:\n",
    "        break\n",
    "cap.release()\n",
    "cv2.destroyAllWindows()"
   ]
  },
  {
   "cell_type": "markdown",
   "id": "34dfa7a5",
   "metadata": {},
   "source": [
    "# Localization, Recognition and Classification"
   ]
  },
  {
   "cell_type": "code",
   "execution_count": null,
   "id": "proper-thermal",
   "metadata": {},
   "outputs": [],
   "source": [
    "import numpy as np\n",
    "import os\n",
    "from PIL import Image\n",
    "import cv2\n",
    "from tensorflow.keras.models import load_model\n",
    "import matplotlib.pyplot as plt\n",
    "from matplotlib.patches import Rectangle\n",
    "\n",
    "%matplotlib inline\n",
    "\n",
    "images_all=os.listdir(\"data\")\n",
    "model = load_model('./facefeatures_model.h5')\n",
    "\n",
    "peoples=['Ishan', 'Megh', 'Miit', 'Om', 'Shashank']\n",
    "faceCascade = cv2.CascadeClassifier('haarcascade_frontalface_default.xml')\n",
    "\n",
    "for i in images_all:\n",
    "    img = cv2.imread(\"data/\"+i)\n",
    "    img = cv2.cvtColor(img, cv2.COLOR_BGR2RGB)\n",
    "    plt.imshow(img)\n",
    "    \n",
    "    detection = faceCascade.detectMultiScale(img) \n",
    "#     print(detection)\n",
    "    count = 0\n",
    "    for face in detection:\n",
    "        print(detection)\n",
    "        x, y, w, h = face\n",
    "        crop = img[y:y+h, x:x+w]\n",
    "#         plt.imshow(crop)\n",
    "        resized = cv2.resize(crop, (64, 64), interpolation=cv2.INTER_AREA)\n",
    "        plt.imshow(resized)\n",
    "        resized= resized/255.0\n",
    "        a  = model.predict(resized[np.newaxis,...])\n",
    "        print(a)\n",
    "        pred = np.argmax(a)\n",
    "        print(pred)\n",
    "        name = peoples[pred]\n",
    "        cv2.imwrite(\"All_new_images/\" + name + \"/\" + i, img)\n",
    "    \n",
    "        plt.show()\n",
    "    "
   ]
  }
 ],
 "metadata": {
  "kernelspec": {
   "display_name": "Python 3 (ipykernel)",
   "language": "python",
   "name": "python3"
  },
  "language_info": {
   "codemirror_mode": {
    "name": "ipython",
    "version": 3
   },
   "file_extension": ".py",
   "mimetype": "text/x-python",
   "name": "python",
   "nbconvert_exporter": "python",
   "pygments_lexer": "ipython3",
   "version": "3.9.6"
  }
 },
 "nbformat": 4,
 "nbformat_minor": 5
}
